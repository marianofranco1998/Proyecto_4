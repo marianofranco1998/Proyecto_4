{
<<<<<<< HEAD
 "metadata": {
  "language_info": {
   "codemirror_mode": {
    "name": "ipython",
    "version": 3
   },
   "file_extension": ".py",
   "mimetype": "text/x-python",
   "name": "python",
   "nbconvert_exporter": "python",
   "pygments_lexer": "ipython3",
   "version": "3.9.1"
  },
  "orig_nbformat": 2,
  "kernelspec": {
   "name": "python391jvsc74a57bd06b21e439609eb553d3cf83e6f090af03fd3b63d74526860f0d7771a1af4955e9",
   "display_name": "Python 3.9.1 64-bit ('3.9.1': pyenv)"
  },
  "metadata": {
   "interpreter": {
    "hash": "6b21e439609eb553d3cf83e6f090af03fd3b63d74526860f0d7771a1af4955e9"
   }
  }
 },
 "nbformat": 4,
 "nbformat_minor": 2,
 "cells": [
  {
   "cell_type": "code",
   "execution_count": 11,
=======
 "cells": [
  {
   "cell_type": "code",
   "execution_count": 18,
>>>>>>> 7675ca682a61f1a4124a2c3eac710bf05229d714
   "metadata": {},
   "outputs": [],
   "source": [
    "## imports\n",
    "import numpy as np\n",
    "import pandas as pd\n",
    "import ML\n",
    "import networkx as nx\n",
    "from networkx.drawing.nx_agraph import graphviz_layout, to_agraph\n",
    "import pygraphviz as pgv"
   ]
  },
  {
   "cell_type": "code",
   "execution_count": 8,
   "metadata": {},
<<<<<<< HEAD
   "outputs": [
    {
     "output_type": "execute_result",
     "data": {
      "text/plain": [
       "   SEASON      AGE DISEASE TRAUMA SURGERY                      FEVERS  \\\n",
       "0  spring  [18,21]     yes     no      no  more than three months ago   \n",
       "1  spring  [18,21]      no    yes      no  more than three months ago   \n",
       "2  spring  [18,21]      no    yes     yes  more than three months ago   \n",
       "3  spring  [18,21]     yes     no      no  more than three months ago   \n",
       "4  spring  [18,21]      no     no     yes  more than three months ago   \n",
       "\n",
       "                ALCOHOL     SMOKING  SITTING   OUTPUT  \n",
       "0           once a week  occasional  [0,2] h   Normal  \n",
       "1           once a week       daily  [0,2] h  Altered  \n",
       "2  hardly ever or never       never  [0,2] h   Normal  \n",
       "3  hardly ever or never       never  [0,2] h   Normal  \n",
       "4           once a week       never  [0,2] h  Altered  "
      ],
      "text/html": "<div>\n<style scoped>\n    .dataframe tbody tr th:only-of-type {\n        vertical-align: middle;\n    }\n\n    .dataframe tbody tr th {\n        vertical-align: top;\n    }\n\n    .dataframe thead th {\n        text-align: right;\n    }\n</style>\n<table border=\"1\" class=\"dataframe\">\n  <thead>\n    <tr style=\"text-align: right;\">\n      <th></th>\n      <th>SEASON</th>\n      <th>AGE</th>\n      <th>DISEASE</th>\n      <th>TRAUMA</th>\n      <th>SURGERY</th>\n      <th>FEVERS</th>\n      <th>ALCOHOL</th>\n      <th>SMOKING</th>\n      <th>SITTING</th>\n      <th>OUTPUT</th>\n    </tr>\n  </thead>\n  <tbody>\n    <tr>\n      <th>0</th>\n      <td>spring</td>\n      <td>[18,21]</td>\n      <td>yes</td>\n      <td>no</td>\n      <td>no</td>\n      <td>more than three months ago</td>\n      <td>once a week</td>\n      <td>occasional</td>\n      <td>[0,2] h</td>\n      <td>Normal</td>\n    </tr>\n    <tr>\n      <th>1</th>\n      <td>spring</td>\n      <td>[18,21]</td>\n      <td>no</td>\n      <td>yes</td>\n      <td>no</td>\n      <td>more than three months ago</td>\n      <td>once a week</td>\n      <td>daily</td>\n      <td>[0,2] h</td>\n      <td>Altered</td>\n    </tr>\n    <tr>\n      <th>2</th>\n      <td>spring</td>\n      <td>[18,21]</td>\n      <td>no</td>\n      <td>yes</td>\n      <td>yes</td>\n      <td>more than three months ago</td>\n      <td>hardly ever or never</td>\n      <td>never</td>\n      <td>[0,2] h</td>\n      <td>Normal</td>\n    </tr>\n    <tr>\n      <th>3</th>\n      <td>spring</td>\n      <td>[18,21]</td>\n      <td>yes</td>\n      <td>no</td>\n      <td>no</td>\n      <td>more than three months ago</td>\n      <td>hardly ever or never</td>\n      <td>never</td>\n      <td>[0,2] h</td>\n      <td>Normal</td>\n    </tr>\n    <tr>\n      <th>4</th>\n      <td>spring</td>\n      <td>[18,21]</td>\n      <td>no</td>\n      <td>no</td>\n      <td>yes</td>\n      <td>more than three months ago</td>\n      <td>once a week</td>\n      <td>never</td>\n      <td>[0,2] h</td>\n      <td>Altered</td>\n    </tr>\n  </tbody>\n</table>\n</div>"
     },
     "metadata": {},
     "execution_count": 8
    }
   ],
=======
   "outputs": [],
>>>>>>> 7675ca682a61f1a4124a2c3eac710bf05229d714
   "source": [
    "## datos\n",
    "original = pd.read_csv('fertility_Diagnosis.txt')\n",
    "original.head()\n",
    "\n",
    "def age(i):\n",
    "    i = i*18+18\n",
    "    if(i<=21):\n",
    "        return \"[18,21]\"\n",
    "    elif(i<=24):\n",
    "        return \"(21,24]\"\n",
    "    elif(i<=27):\n",
    "        return \"(24,27]\"\n",
    "    elif(i<=30):\n",
    "        return \"(27,30]\"\n",
    "    elif(i<=33):\n",
    "        return \"(30,33]\"\n",
    "    else:\n",
    "        return \"(33,36]\"\n",
    "\n",
    "original['AGE']=original['AGE'].apply(age)\n",
    "\n",
    "def sitting(i):\n",
    "    ag = i*16\n",
    "    if(i<=2):\n",
    "        return \"[0,2] h\"\n",
    "    elif(i<=4):\n",
    "        return \"(2,4] h\"\n",
    "    elif(i<=8):\n",
    "        return \"(4,8] h\"\n",
    "    elif(i<=10):\n",
    "        return \"(8,10] h\"\n",
    "    elif(i<=12):\n",
    "        return \"(10,12] h\"\n",
    "    elif(i<=14):\n",
    "        return \"(12,14] h\"\n",
    "    else:\n",
    "        return \"(14,16] h\"\n",
    "\n",
    "original['SITTING']=original['SITTING'].apply(sitting)\n",
    "\n",
    "def alcohol(i):\n",
    "    switcher = {\n",
    "        0.2: \"several times a day\",\n",
    "        0.4: \"every day\",\n",
    "        0.6: \"several times a week\",\n",
    "        0.8: \"once a week\",\n",
    "        1: \"hardly ever or never\"\n",
    "    }\n",
    "    return switcher.get(i)\n",
    "\n",
    "original['ALCOHOL']=original['ALCOHOL'].apply(alcohol)\n",
    "\n",
    "def season(i):\n",
    "    switcher = {\n",
    "        -1: \"winter\",\n",
    "        -0.33: \"spring\",\n",
    "        0.33: \"summer\",\n",
    "        1: \"fall\"\n",
    "    }\n",
    "    return switcher.get(i)\n",
    "\n",
    "original['SEASON']=original['SEASON'].apply(season)\n",
    "\n",
<<<<<<< HEAD
    "def disease(i):\n",
    "    switcher = {\n",
    "        0: \"yes\",\n",
    "        1: \"no\"\n",
    "    }\n",
    "    return switcher.get(i)\n",
    "\n",
    "original['DISEASE']=original['DISEASE'].apply(disease)\n",
    "\n",
    "original['TRAUMA']=original['TRAUMA'].apply(disease)\n",
    "\n",
    "original['SURGERY']=original['SURGERY'].apply(disease)\n",
    "\n",
    "def fevers(i):\n",
    "    switcher = {\n",
    "        -1: \"less than three months ago\",\n",
    "        0: \"more than three months ago\",\n",
    "        1: \"no\"\n",
    "    }\n",
    "    return switcher.get(i)\n",
    "\n",
    "original['FEVERS']=original['FEVERS'].apply(fevers)\n",
    "\n",
    "def smoking(i):\n",
    "    switcher = {\n",
    "        -1: \"never\",\n",
    "        0: \"occasional\",\n",
    "        1: \"daily\"\n",
    "    }\n",
    "    return switcher.get(i)\n",
    "\n",
    "original['SMOKING']=original['SMOKING'].apply(smoking)\n",
    "\n",
    "def output(i):\n",
    "    switcher = {\n",
    "        \"N\": \"Normal\",\n",
    "        \"O\": \"Altered\"\n",
    "    }\n",
    "    return switcher.get(i)\n",
    "\n",
    "original['OUTPUT']=original['OUTPUT'].apply(output)\n",
    "\n",
    "original.head()\n"
=======
    "original.head()\n",
    "ML.crear_arbol(original, 'fertilityID3')"
>>>>>>> 7675ca682a61f1a4124a2c3eac710bf05229d714
   ]
  },
  {
   "cell_type": "code",
   "execution_count": 13,
   "metadata": {},
   "outputs": [],
   "source": [
<<<<<<< HEAD
    "dfer = pd.DataFrame({'Presión Arterial': 'Alta Alta Normal Baja Baja Baja Normal Alta Alta Baja Alta Normal Normal Baja'.split(),\n",
    "                   'Urea en sangre': 'Alta Alta Alta Normal Baja Baja Baja Normal Baja Normal Normal Normal Alta Normal'.split(),\n",
    "                   'Gota': 'Si Si Si Si No No No Si No No No Si No Si'.split(),\n",
    "                   'Hipotiroidismo': 'No Si No No No Si Si No No No Si Si No Si'.split(),\n",
    "                   'Tratamiento': 'No No Si Si Si No Si No Si Si Si Si Si No'.split()})\n",
    "\n",
    "ML.crear_arbol(dfer)"
=======
    "dfer = pd.DataFrame({'Cielo': 'Limpio Nublado Nublado Limpio Nublado Nublado Nublado Limpio'.split(),\n",
    "                   'Barometro': 'Subiendo Subiendo Estable Bajando Bajando Subiendo Bajando Subiendo'.split(),\n",
    "                   'Viento': 'Norte Sur Norte Norte Norte Norte Sur Sur'.split(),\n",
    "                   'Lluvia': 'No Si Si No Si Si No No'.split()})\n",
    "ML.crear_arbol(dfer, 'lluvia')"
>>>>>>> 7675ca682a61f1a4124a2c3eac710bf05229d714
   ]
  },
  {
   "cell_type": "code",
   "execution_count": 7,
   "metadata": {},
   "outputs": [],
   "source": [
    "## datos\n",
    "breast_cancer = pd.read_csv('breast-cancer.txt')\n",
<<<<<<< HEAD
    "#breast_cancer = breast_cancer[['Age','Menopause','Tumor Size','Inv. Nodes','Node Caps','Deg. Malig.','Breast','Breast Quadrant','Irradiate','Class']]\n",
    "ML.crear_arbol(breast_cancer)"
=======
    "breast_cancer = breast_cancer[['Age','Menopause','Tumor Size','Inv. Nodes','Node Caps','Deg. Malig.','Breast','Breast Quadrant','Irradiate','Class']]\n",
    "ML.crear_arbol(breast_cancer, 'breast-cancerID3')"
>>>>>>> 7675ca682a61f1a4124a2c3eac710bf05229d714
   ]
  },
  {
   "cell_type": "code",
   "execution_count": 7,
   "metadata": {},
   "outputs": [
    {
     "data": {
      "text/html": [
       "<div>\n",
       "<style scoped>\n",
       "    .dataframe tbody tr th:only-of-type {\n",
       "        vertical-align: middle;\n",
       "    }\n",
       "\n",
       "    .dataframe tbody tr th {\n",
       "        vertical-align: top;\n",
       "    }\n",
       "\n",
       "    .dataframe thead th {\n",
       "        text-align: right;\n",
       "    }\n",
       "</style>\n",
       "<table border=\"1\" class=\"dataframe\">\n",
       "  <thead>\n",
       "    <tr style=\"text-align: right;\">\n",
       "      <th></th>\n",
       "      <th>SEASON</th>\n",
       "      <th>AGE</th>\n",
       "      <th>DISEASE</th>\n",
       "      <th>TRAUMA</th>\n",
       "      <th>SURGERY</th>\n",
       "      <th>FEVERS</th>\n",
       "      <th>ALCOHOL</th>\n",
       "      <th>SMOKING</th>\n",
       "      <th>SITTING</th>\n",
       "      <th>OUTPUT</th>\n",
       "    </tr>\n",
       "  </thead>\n",
       "  <tbody>\n",
       "    <tr>\n",
       "      <th>53</th>\n",
       "      <td>spring</td>\n",
       "      <td>[18,21]</td>\n",
       "      <td>1</td>\n",
       "      <td>1</td>\n",
       "      <td>1</td>\n",
       "      <td>-1</td>\n",
       "      <td>once a week</td>\n",
       "      <td>0</td>\n",
       "      <td>[0,2]</td>\n",
       "      <td>N</td>\n",
       "    </tr>\n",
       "    <tr>\n",
       "      <th>66</th>\n",
       "      <td>spring</td>\n",
       "      <td>[18,21]</td>\n",
       "      <td>1</td>\n",
       "      <td>1</td>\n",
       "      <td>0</td>\n",
       "      <td>-1</td>\n",
       "      <td>once a week</td>\n",
       "      <td>0</td>\n",
       "      <td>[0,2]</td>\n",
       "      <td>N</td>\n",
       "    </tr>\n",
       "    <tr>\n",
       "      <th>70</th>\n",
       "      <td>spring</td>\n",
       "      <td>[18,21]</td>\n",
       "      <td>1</td>\n",
       "      <td>1</td>\n",
       "      <td>0</td>\n",
       "      <td>-1</td>\n",
       "      <td>once a week</td>\n",
       "      <td>0</td>\n",
       "      <td>[0,2]</td>\n",
       "      <td>O</td>\n",
       "    </tr>\n",
       "  </tbody>\n",
       "</table>\n",
       "</div>"
      ],
      "text/plain": [
       "    SEASON      AGE  DISEASE  TRAUMA  SURGERY  FEVERS      ALCOHOL  SMOKING  \\\n",
       "53  spring  [18,21]        1       1        1      -1  once a week        0   \n",
       "66  spring  [18,21]        1       1        0      -1  once a week        0   \n",
       "70  spring  [18,21]        1       1        0      -1  once a week        0   \n",
       "\n",
       "   SITTING OUTPUT  \n",
       "53   [0,2]      N  \n",
       "66   [0,2]      N  \n",
       "70   [0,2]      O  "
      ]
     },
     "execution_count": 7,
     "metadata": {},
     "output_type": "execute_result"
    }
   ],
   "source": [
    "original.loc[(original['ALCOHOL'] == 'once a week')  & (original['SEASON'] == 'spring') & (original['FEVERS'] == -1) & (original['TRAUMA'] == 1)]"
   ]
  },
  {
   "cell_type": "code",
   "execution_count": 6,
   "metadata": {},
   "outputs": [
    {
     "data": {
      "text/html": [
       "<div>\n",
       "<style scoped>\n",
       "    .dataframe tbody tr th:only-of-type {\n",
       "        vertical-align: middle;\n",
       "    }\n",
       "\n",
       "    .dataframe tbody tr th {\n",
       "        vertical-align: top;\n",
       "    }\n",
       "\n",
       "    .dataframe thead th {\n",
       "        text-align: right;\n",
       "    }\n",
       "</style>\n",
       "<table border=\"1\" class=\"dataframe\">\n",
       "  <thead>\n",
       "    <tr style=\"text-align: right;\">\n",
       "      <th></th>\n",
       "      <th>SEASON</th>\n",
       "      <th>DISEASE</th>\n",
       "      <th>TRAUMA</th>\n",
       "      <th>SURGERY</th>\n",
       "      <th>FEVERS</th>\n",
       "      <th>ALCOHOL</th>\n",
       "      <th>SMOKING</th>\n",
       "      <th>OUTPUT</th>\n",
       "    </tr>\n",
       "  </thead>\n",
       "  <tbody>\n",
       "    <tr>\n",
       "      <th>0</th>\n",
       "      <td>spring</td>\n",
       "      <td>0</td>\n",
       "      <td>1</td>\n",
       "      <td>1</td>\n",
       "      <td>0</td>\n",
       "      <td>once a week</td>\n",
       "      <td>0</td>\n",
       "      <td>N</td>\n",
       "    </tr>\n",
       "    <tr>\n",
       "      <th>1</th>\n",
       "      <td>spring</td>\n",
       "      <td>1</td>\n",
       "      <td>0</td>\n",
       "      <td>1</td>\n",
       "      <td>0</td>\n",
       "      <td>once a week</td>\n",
       "      <td>1</td>\n",
       "      <td>O</td>\n",
       "    </tr>\n",
       "    <tr>\n",
       "      <th>2</th>\n",
       "      <td>spring</td>\n",
       "      <td>1</td>\n",
       "      <td>0</td>\n",
       "      <td>0</td>\n",
       "      <td>0</td>\n",
       "      <td>hardly ever or never</td>\n",
       "      <td>-1</td>\n",
       "      <td>N</td>\n",
       "    </tr>\n",
       "    <tr>\n",
       "      <th>3</th>\n",
       "      <td>spring</td>\n",
       "      <td>0</td>\n",
       "      <td>1</td>\n",
       "      <td>1</td>\n",
       "      <td>0</td>\n",
       "      <td>hardly ever or never</td>\n",
       "      <td>-1</td>\n",
       "      <td>N</td>\n",
       "    </tr>\n",
       "    <tr>\n",
       "      <th>4</th>\n",
       "      <td>spring</td>\n",
       "      <td>1</td>\n",
       "      <td>1</td>\n",
       "      <td>0</td>\n",
       "      <td>0</td>\n",
       "      <td>once a week</td>\n",
       "      <td>-1</td>\n",
       "      <td>O</td>\n",
       "    </tr>\n",
       "  </tbody>\n",
       "</table>\n",
       "</div>"
      ],
      "text/plain": [
       "   SEASON  DISEASE  TRAUMA  SURGERY  FEVERS               ALCOHOL  SMOKING  \\\n",
       "0  spring        0       1        1       0           once a week        0   \n",
       "1  spring        1       0        1       0           once a week        1   \n",
       "2  spring        1       0        0       0  hardly ever or never       -1   \n",
       "3  spring        0       1        1       0  hardly ever or never       -1   \n",
       "4  spring        1       1        0       0           once a week       -1   \n",
       "\n",
       "  OUTPUT  \n",
       "0      N  \n",
       "1      O  \n",
       "2      N  \n",
       "3      N  \n",
       "4      O  "
      ]
     },
     "execution_count": 6,
     "metadata": {},
     "output_type": "execute_result"
    }
   ],
   "source": [
    "class_name = original.columns[-1]\n",
    "original=original[[i for i in original if len(set(original[i]))>1 or i == class_name]]\n",
    "original.head()"
   ]
  },
  {
   "cell_type": "code",
   "execution_count": 20,
   "metadata": {},
   "outputs": [],
   "source": [
    "## datos\n",
    "original = pd.read_csv('fertility_Diagnosis.txt')\n",
    "original.head()\n",
    "\n",
    "def age(i):\n",
    "    i = i*18+18\n",
    "    if(i<=21):\n",
    "        return \"[18,21]\"\n",
    "    elif(i<=24):\n",
    "        return \"(21,24]\"\n",
    "    elif(i<=27):\n",
    "        return \"(24,27]\"\n",
    "    elif(i<=30):\n",
    "        return \"(27,30]\"\n",
    "    elif(i<=33):\n",
    "        return \"(30,33]\"\n",
    "    else:\n",
    "        return \"(33,36]\"\n",
    "\n",
    "original['AGE']=original['AGE'].apply(age)\n",
    "\n",
    "def sitting(i):\n",
    "    ag = i*16\n",
    "    if(i<=2):\n",
    "        return \"[0,2]\"\n",
    "    elif(i<=4):\n",
    "        return \"(2,4]\"\n",
    "    elif(i<=8):\n",
    "        return \"(4,8]\"\n",
    "    elif(i<=10):\n",
    "        return \"(8,10]\"\n",
    "    elif(i<=12):\n",
    "        return \"(10,12]\"\n",
    "    elif(i<=14):\n",
    "        return \"(12,14]\"\n",
    "    else:\n",
    "        return \"(14,16]\"\n",
    "\n",
    "original['SITTING']=original['SITTING'].apply(sitting)\n",
    "\n",
    "def alcohol(i):\n",
    "    switcher = {\n",
    "        0.2: \"several times a day\",\n",
    "        0.4: \"every day\",\n",
    "        0.6: \"several times a week\",\n",
    "        0.8: \"once a week\",\n",
    "        1: \"hardly ever or never\"\n",
    "    }\n",
    "    return switcher.get(i)\n",
    "\n",
    "original['ALCOHOL']=original['ALCOHOL'].apply(alcohol)\n",
    "\n",
    "def season(i):\n",
    "    switcher = {\n",
    "        -1: \"winter\",\n",
    "        -0.33: \"spring\",\n",
    "        0.33: \"summer\",\n",
    "        1: \"fall\"\n",
    "    }\n",
    "    return switcher.get(i)\n",
    "\n",
    "original['SEASON']=original['SEASON'].apply(season)\n",
    "\n",
    "original.head()\n",
    "g = ML.crear_arbol(original, 'fertilityID3')"
   ]
  },
  {
   "cell_type": "code",
   "execution_count": 10,
   "metadata": {},
   "outputs": [
    {
     "name": "stdout",
     "output_type": "stream",
     "text": [
      "None\n"
     ]
    }
   ],
   "source": [
    "print(g)"
   ]
  },
  {
   "cell_type": "code",
   "execution_count": null,
   "metadata": {},
   "outputs": [],
   "source": []
  }
 ],
 "metadata": {
  "kernelspec": {
   "display_name": "Python 3",
   "language": "python",
   "name": "python3"
  },
  "language_info": {
   "codemirror_mode": {
    "name": "ipython",
    "version": 3
   },
   "file_extension": ".py",
   "mimetype": "text/x-python",
   "name": "python",
   "nbconvert_exporter": "python",
   "pygments_lexer": "ipython3",
   "version": "3.8.5"
  },
  "metadata": {
   "interpreter": {
    "hash": "aee8b7b246df8f9039afb4144a1f6fd8d2ca17a180786b69acc140d282b71a49"
   }
  }
 },
 "nbformat": 4,
 "nbformat_minor": 2
}
