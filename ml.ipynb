{
 "metadata": {
  "language_info": {
   "codemirror_mode": {
    "name": "ipython",
    "version": 3
   },
   "file_extension": ".py",
   "mimetype": "text/x-python",
   "name": "python",
   "nbconvert_exporter": "python",
   "pygments_lexer": "ipython3",
   "version": "3.8.5-final"
  },
  "orig_nbformat": 2,
  "kernelspec": {
   "name": "python385jvsc74a57bd0c1472f549d5f83856ebe4ec31c8b195997327e2cfc464e2b49f3f5b049b1f4a6",
   "display_name": "Python 3.8.5 64-bit ('3.8.5')"
  }
 },
 "nbformat": 4,
 "nbformat_minor": 2,
 "cells": [
  {
   "cell_type": "code",
   "execution_count": 1,
   "metadata": {},
   "outputs": [
    {
     "output_type": "stream",
     "name": "stderr",
     "text": [
      "/Users/marianofranco/.pyenv/versions/3.8.5/lib/python3.8/site-packages/pandas/compat/__init__.py:97: UserWarning: Could not import the lzma module. Your installed Python is incomplete. Attempting to use lzma compression will result in a RuntimeError.\n  warnings.warn(msg)\n"
     ]
    }
   ],
   "source": [
    "## imports\n",
    "import numpy as np\n",
    "import pandas as pd\n",
    "import ML\n",
    "import networkx as nx\n",
    "from networkx.drawing.nx_agraph import graphviz_layout, to_agraph\n",
    "import pygraphviz as pgv"
   ]
  },
  {
   "cell_type": "code",
   "execution_count": 2,
   "metadata": {},
   "outputs": [
    {
     "output_type": "execute_result",
     "data": {
      "text/plain": [
       "   SEASON      AGE  DISEASE  TRAUMA  SURGERY  FEVERS               ALCOHOL  \\\n",
       "0  spring  [18,21]        0       1        1       0           once a week   \n",
       "1  spring  [18,21]        1       0        1       0           once a week   \n",
       "2  spring  [18,21]        1       0        0       0  hardly ever or never   \n",
       "3  spring  [18,21]        0       1        1       0  hardly ever or never   \n",
       "4  spring  [18,21]        1       1        0       0           once a week   \n",
       "\n",
       "   SMOKING SITTING OUTPUT  \n",
       "0        0   [0,2]      N  \n",
       "1        1   [0,2]      O  \n",
       "2       -1   [0,2]      N  \n",
       "3       -1   [0,2]      N  \n",
       "4       -1   [0,2]      O  "
      ],
      "text/html": "<div>\n<style scoped>\n    .dataframe tbody tr th:only-of-type {\n        vertical-align: middle;\n    }\n\n    .dataframe tbody tr th {\n        vertical-align: top;\n    }\n\n    .dataframe thead th {\n        text-align: right;\n    }\n</style>\n<table border=\"1\" class=\"dataframe\">\n  <thead>\n    <tr style=\"text-align: right;\">\n      <th></th>\n      <th>SEASON</th>\n      <th>AGE</th>\n      <th>DISEASE</th>\n      <th>TRAUMA</th>\n      <th>SURGERY</th>\n      <th>FEVERS</th>\n      <th>ALCOHOL</th>\n      <th>SMOKING</th>\n      <th>SITTING</th>\n      <th>OUTPUT</th>\n    </tr>\n  </thead>\n  <tbody>\n    <tr>\n      <th>0</th>\n      <td>spring</td>\n      <td>[18,21]</td>\n      <td>0</td>\n      <td>1</td>\n      <td>1</td>\n      <td>0</td>\n      <td>once a week</td>\n      <td>0</td>\n      <td>[0,2]</td>\n      <td>N</td>\n    </tr>\n    <tr>\n      <th>1</th>\n      <td>spring</td>\n      <td>[18,21]</td>\n      <td>1</td>\n      <td>0</td>\n      <td>1</td>\n      <td>0</td>\n      <td>once a week</td>\n      <td>1</td>\n      <td>[0,2]</td>\n      <td>O</td>\n    </tr>\n    <tr>\n      <th>2</th>\n      <td>spring</td>\n      <td>[18,21]</td>\n      <td>1</td>\n      <td>0</td>\n      <td>0</td>\n      <td>0</td>\n      <td>hardly ever or never</td>\n      <td>-1</td>\n      <td>[0,2]</td>\n      <td>N</td>\n    </tr>\n    <tr>\n      <th>3</th>\n      <td>spring</td>\n      <td>[18,21]</td>\n      <td>0</td>\n      <td>1</td>\n      <td>1</td>\n      <td>0</td>\n      <td>hardly ever or never</td>\n      <td>-1</td>\n      <td>[0,2]</td>\n      <td>N</td>\n    </tr>\n    <tr>\n      <th>4</th>\n      <td>spring</td>\n      <td>[18,21]</td>\n      <td>1</td>\n      <td>1</td>\n      <td>0</td>\n      <td>0</td>\n      <td>once a week</td>\n      <td>-1</td>\n      <td>[0,2]</td>\n      <td>O</td>\n    </tr>\n  </tbody>\n</table>\n</div>"
     },
     "metadata": {},
     "execution_count": 2
    }
   ],
   "source": [
    "## datos\n",
    "original = pd.read_csv('fertility_Diagnosis.txt')\n",
    "original.head()\n",
    "\n",
    "def age(i):\n",
    "    ag = i*18+18\n",
    "    if(i<=21):\n",
    "        return \"[18,21]\"\n",
    "    elif(i<=24):\n",
    "        return \"(21,24]\"\n",
    "    elif(i<=27):\n",
    "        return \"(24,27]\"\n",
    "    elif(i<=30):\n",
    "        return \"(27,30]\"\n",
    "    elif(i<=33):\n",
    "        return \"(30,33]\"\n",
    "    else:\n",
    "        return \"(33,36]\"\n",
    "\n",
    "original['AGE']=original['AGE'].apply(age)\n",
    "\n",
    "def sitting(i):\n",
    "    ag = i*16\n",
    "    if(i<=2):\n",
    "        return \"[0,2]\"\n",
    "    elif(i<=4):\n",
    "        return \"(2,4]\"\n",
    "    elif(i<=8):\n",
    "        return \"(4,8]\"\n",
    "    elif(i<=10):\n",
    "        return \"(8,10]\"\n",
    "    elif(i<=12):\n",
    "        return \"(10,12]\"\n",
    "    elif(i<=14):\n",
    "        return \"(12,14]\"\n",
    "    else:\n",
    "        return \"(14,16]\"\n",
    "\n",
    "original['SITTING']=original['SITTING'].apply(sitting)\n",
    "\n",
    "def alcohol(i):\n",
    "    switcher = {\n",
    "        0.2: \"several times a day\",\n",
    "        0.4: \"every day\",\n",
    "        0.6: \"several times a week\",\n",
    "        0.8: \"once a week\",\n",
    "        1: \"hardly ever or never\"\n",
    "    }\n",
    "    return switcher.get(i)\n",
    "\n",
    "original['ALCOHOL']=original['ALCOHOL'].apply(alcohol)\n",
    "\n",
    "def season(i):\n",
    "    switcher = {\n",
    "        -1: \"winter\",\n",
    "        -0.33: \"spring\",\n",
    "        0.33: \"summer\",\n",
    "        1: \"fall\"\n",
    "    }\n",
    "    return switcher.get(i)\n",
    "\n",
    "original['SEASON']=original['SEASON'].apply(season)\n",
    "\n",
    "original.head()\n"
   ]
  },
  {
   "cell_type": "code",
   "execution_count": 3,
   "metadata": {},
   "outputs": [
    {
     "output_type": "error",
     "ename": "UnboundLocalError",
     "evalue": "local variable 'id1' referenced before assignment",
     "traceback": [
      "\u001b[0;31m---------------------------------------------------------------------------\u001b[0m",
      "\u001b[0;31mUnboundLocalError\u001b[0m                         Traceback (most recent call last)",
      "\u001b[0;32m<ipython-input-3-1b3862c5bf21>\u001b[0m in \u001b[0;36m<module>\u001b[0;34m\u001b[0m\n\u001b[1;32m      4\u001b[0m                    'Lluvia': 'No Si Si No Si Si No No'.split()})\n\u001b[1;32m      5\u001b[0m \u001b[0;34m\u001b[0m\u001b[0m\n\u001b[0;32m----> 6\u001b[0;31m \u001b[0mML\u001b[0m\u001b[0;34m.\u001b[0m\u001b[0mcrear_arbol\u001b[0m\u001b[0;34m(\u001b[0m\u001b[0mdfer\u001b[0m\u001b[0;34m)\u001b[0m\u001b[0;34m\u001b[0m\u001b[0;34m\u001b[0m\u001b[0m\n\u001b[0m",
      "\u001b[0;32m~/Documents/ITAM/Semestre6/IA/Proyecto_4/ML.py\u001b[0m in \u001b[0;36mcrear_arbol\u001b[0;34m(df)\u001b[0m\n\u001b[1;32m     33\u001b[0m     \u001b[0mG\u001b[0m \u001b[0;34m=\u001b[0m \u001b[0mnx\u001b[0m\u001b[0;34m.\u001b[0m\u001b[0mDiGraph\u001b[0m\u001b[0;34m(\u001b[0m\u001b[0mbgcolor\u001b[0m\u001b[0;34m=\u001b[0m\u001b[0mbackground\u001b[0m\u001b[0;34m)\u001b[0m\u001b[0;34m\u001b[0m\u001b[0;34m\u001b[0m\u001b[0m\n\u001b[1;32m     34\u001b[0m \u001b[0;34m\u001b[0m\u001b[0m\n\u001b[0;32m---> 35\u001b[0;31m     \u001b[0mrec_crear_arbol\u001b[0m\u001b[0;34m(\u001b[0m\u001b[0mdf\u001b[0m\u001b[0;34m,\u001b[0m\u001b[0mG\u001b[0m\u001b[0;34m,\u001b[0m \u001b[0;34m'f'\u001b[0m\u001b[0;34m,\u001b[0m \u001b[0;34m'f'\u001b[0m\u001b[0;34m)\u001b[0m\u001b[0;34m\u001b[0m\u001b[0;34m\u001b[0m\u001b[0m\n\u001b[0m\u001b[1;32m     36\u001b[0m \u001b[0;34m\u001b[0m\u001b[0m\n\u001b[1;32m     37\u001b[0m     \u001b[0mG\u001b[0m\u001b[0;34m.\u001b[0m\u001b[0mgraph\u001b[0m\u001b[0;34m[\u001b[0m\u001b[0;34m'graph'\u001b[0m\u001b[0;34m]\u001b[0m\u001b[0;34m=\u001b[0m\u001b[0;34m{\u001b[0m\u001b[0;34m'rankdir'\u001b[0m\u001b[0;34m:\u001b[0m\u001b[0;34m'TD'\u001b[0m\u001b[0;34m}\u001b[0m\u001b[0;34m\u001b[0m\u001b[0;34m\u001b[0m\u001b[0m\n",
      "\u001b[0;32m~/Documents/ITAM/Semestre6/IA/Proyecto_4/ML.py\u001b[0m in \u001b[0;36mrec_crear_arbol\u001b[0;34m(df, G, parent, lab)\u001b[0m\n\u001b[1;32m     94\u001b[0m         \u001b[0;32mfor\u001b[0m \u001b[0mk\u001b[0m \u001b[0;32min\u001b[0m \u001b[0mvalues\u001b[0m\u001b[0;34m:\u001b[0m\u001b[0;34m\u001b[0m\u001b[0;34m\u001b[0m\u001b[0m\n\u001b[1;32m     95\u001b[0m             \u001b[0mrec_df\u001b[0m \u001b[0;34m=\u001b[0m \u001b[0mdf\u001b[0m\u001b[0;34m.\u001b[0m\u001b[0mloc\u001b[0m\u001b[0;34m[\u001b[0m\u001b[0mdf\u001b[0m\u001b[0;34m.\u001b[0m\u001b[0miloc\u001b[0m\u001b[0;34m[\u001b[0m\u001b[0;34m:\u001b[0m\u001b[0;34m,\u001b[0m\u001b[0mcol_min_ent\u001b[0m\u001b[0;34m]\u001b[0m \u001b[0;34m==\u001b[0m \u001b[0mk\u001b[0m\u001b[0;34m]\u001b[0m\u001b[0;34m.\u001b[0m\u001b[0mdrop\u001b[0m\u001b[0;34m(\u001b[0m\u001b[0mdf\u001b[0m\u001b[0;34m.\u001b[0m\u001b[0mcolumns\u001b[0m\u001b[0;34m[\u001b[0m\u001b[0mcol_min_ent\u001b[0m\u001b[0;34m]\u001b[0m\u001b[0;34m,\u001b[0m\u001b[0maxis\u001b[0m\u001b[0;34m=\u001b[0m\u001b[0;36m1\u001b[0m\u001b[0;34m)\u001b[0m\u001b[0;34m\u001b[0m\u001b[0;34m\u001b[0m\u001b[0m\n\u001b[0;32m---> 96\u001b[0;31m             \u001b[0mrec_crear_arbol\u001b[0m\u001b[0;34m(\u001b[0m\u001b[0mrec_df\u001b[0m\u001b[0;34m,\u001b[0m\u001b[0mG\u001b[0m\u001b[0;34m,\u001b[0m\u001b[0mid1\u001b[0m\u001b[0;34m,\u001b[0m\u001b[0mk\u001b[0m\u001b[0;34m)\u001b[0m\u001b[0;34m\u001b[0m\u001b[0;34m\u001b[0m\u001b[0m\n\u001b[0m",
      "\u001b[0;32m~/Documents/ITAM/Semestre6/IA/Proyecto_4/ML.py\u001b[0m in \u001b[0;36mrec_crear_arbol\u001b[0;34m(df, G, parent, lab)\u001b[0m\n\u001b[1;32m     48\u001b[0m     \u001b[0marr_check\u001b[0m \u001b[0;34m=\u001b[0m \u001b[0mdf\u001b[0m\u001b[0;34m.\u001b[0m\u001b[0miloc\u001b[0m\u001b[0;34m[\u001b[0m\u001b[0;34m:\u001b[0m\u001b[0;34m,\u001b[0m\u001b[0;34m-\u001b[0m\u001b[0;36m1\u001b[0m\u001b[0;34m]\u001b[0m\u001b[0;34m.\u001b[0m\u001b[0munique\u001b[0m\u001b[0;34m(\u001b[0m\u001b[0;34m)\u001b[0m\u001b[0;34m\u001b[0m\u001b[0;34m\u001b[0m\u001b[0m\n\u001b[1;32m     49\u001b[0m     \u001b[0;32mif\u001b[0m \u001b[0mlen\u001b[0m\u001b[0;34m(\u001b[0m\u001b[0marr_check\u001b[0m\u001b[0;34m)\u001b[0m \u001b[0;34m==\u001b[0m \u001b[0;36m1\u001b[0m\u001b[0;34m:\u001b[0m\u001b[0;34m\u001b[0m\u001b[0;34m\u001b[0m\u001b[0m\n\u001b[0;32m---> 50\u001b[0;31m         \u001b[0mG\u001b[0m\u001b[0;34m.\u001b[0m\u001b[0madd_node\u001b[0m\u001b[0;34m(\u001b[0m\u001b[0mid1\u001b[0m\u001b[0;34m,\u001b[0m\u001b[0mlabel\u001b[0m\u001b[0;34m=\u001b[0m\u001b[0marr_check\u001b[0m\u001b[0;34m[\u001b[0m\u001b[0;36m0\u001b[0m\u001b[0;34m]\u001b[0m\u001b[0;34m,\u001b[0m\u001b[0mstyle\u001b[0m\u001b[0;34m=\u001b[0m\u001b[0;34m'filled'\u001b[0m\u001b[0;34m,\u001b[0m\u001b[0mfillcolor\u001b[0m\u001b[0;34m=\u001b[0m\u001b[0mend_node\u001b[0m\u001b[0;34m,\u001b[0m\u001b[0mpenwidth\u001b[0m\u001b[0;34m=\u001b[0m\u001b[0;36m0\u001b[0m\u001b[0;34m,\u001b[0m\u001b[0mfontcolor\u001b[0m\u001b[0;34m=\u001b[0m\u001b[0mbackground\u001b[0m\u001b[0;34m)\u001b[0m\u001b[0;34m\u001b[0m\u001b[0;34m\u001b[0m\u001b[0m\n\u001b[0m\u001b[1;32m     51\u001b[0m         \u001b[0mG\u001b[0m\u001b[0;34m.\u001b[0m\u001b[0madd_edge\u001b[0m\u001b[0;34m(\u001b[0m\u001b[0mparent\u001b[0m\u001b[0;34m,\u001b[0m\u001b[0mid1\u001b[0m\u001b[0;34m,\u001b[0m\u001b[0mlabel\u001b[0m\u001b[0;34m=\u001b[0m\u001b[0mlab\u001b[0m\u001b[0;34m,\u001b[0m\u001b[0mfontcolor\u001b[0m\u001b[0;34m=\u001b[0m\u001b[0mint_node\u001b[0m\u001b[0;34m,\u001b[0m\u001b[0marrowhead\u001b[0m\u001b[0;34m=\u001b[0m\u001b[0;34m'open'\u001b[0m\u001b[0;34m,\u001b[0m\u001b[0mcolor\u001b[0m\u001b[0;34m=\u001b[0m\u001b[0mint_node\u001b[0m\u001b[0;34m)\u001b[0m\u001b[0;34m\u001b[0m\u001b[0;34m\u001b[0m\u001b[0m\n\u001b[1;32m     52\u001b[0m         \u001b[0;32mreturn\u001b[0m\u001b[0;34m\u001b[0m\u001b[0;34m\u001b[0m\u001b[0m\n",
      "\u001b[0;31mUnboundLocalError\u001b[0m: local variable 'id1' referenced before assignment"
     ]
    }
   ],
   "source": [
    "dfer = pd.DataFrame({'Cielo': 'Limpio Nublado Nublado Limpio Nublado Nublado Nublado Limpio'.split(),\n",
    "                   'Barometro': 'Subiendo Subiendo Estable Bajando Bajando Subiendo Bajando Subiendo'.split(),\n",
    "                   'Viento': 'Norte Sur Norte Norte Norte Norte Sur Sur'.split(),\n",
    "                   'Lluvia': 'No Si Si No Si Si No No'.split()})\n",
    "\n",
    "ML.crear_arbol(dfer)"
   ]
  },
  {
   "cell_type": "code",
   "execution_count": 4,
   "metadata": {},
   "outputs": [],
   "source": [
    "## datos\n",
    "breast_cancer = pd.read_csv('breast-cancer.txt')\n",
    "breast_cancer = breast_cancer[['Age','Menopause','Tumor Size','Inv. Nodes','Node Caps','Deg. Malig.','Breast','Breast Quadrant','Irradiate','Class']]\n",
    "ML.crear_arbol(original)"
   ]
  },
  {
   "cell_type": "code",
   "execution_count": 7,
   "metadata": {},
   "outputs": [
    {
     "output_type": "execute_result",
     "data": {
      "text/plain": [
       "    SEASON      AGE  DISEASE  TRAUMA  SURGERY  FEVERS      ALCOHOL  SMOKING  \\\n",
       "53  spring  [18,21]        1       1        1      -1  once a week        0   \n",
       "66  spring  [18,21]        1       1        0      -1  once a week        0   \n",
       "70  spring  [18,21]        1       1        0      -1  once a week        0   \n",
       "\n",
       "   SITTING OUTPUT  \n",
       "53   [0,2]      N  \n",
       "66   [0,2]      N  \n",
       "70   [0,2]      O  "
      ],
      "text/html": "<div>\n<style scoped>\n    .dataframe tbody tr th:only-of-type {\n        vertical-align: middle;\n    }\n\n    .dataframe tbody tr th {\n        vertical-align: top;\n    }\n\n    .dataframe thead th {\n        text-align: right;\n    }\n</style>\n<table border=\"1\" class=\"dataframe\">\n  <thead>\n    <tr style=\"text-align: right;\">\n      <th></th>\n      <th>SEASON</th>\n      <th>AGE</th>\n      <th>DISEASE</th>\n      <th>TRAUMA</th>\n      <th>SURGERY</th>\n      <th>FEVERS</th>\n      <th>ALCOHOL</th>\n      <th>SMOKING</th>\n      <th>SITTING</th>\n      <th>OUTPUT</th>\n    </tr>\n  </thead>\n  <tbody>\n    <tr>\n      <th>53</th>\n      <td>spring</td>\n      <td>[18,21]</td>\n      <td>1</td>\n      <td>1</td>\n      <td>1</td>\n      <td>-1</td>\n      <td>once a week</td>\n      <td>0</td>\n      <td>[0,2]</td>\n      <td>N</td>\n    </tr>\n    <tr>\n      <th>66</th>\n      <td>spring</td>\n      <td>[18,21]</td>\n      <td>1</td>\n      <td>1</td>\n      <td>0</td>\n      <td>-1</td>\n      <td>once a week</td>\n      <td>0</td>\n      <td>[0,2]</td>\n      <td>N</td>\n    </tr>\n    <tr>\n      <th>70</th>\n      <td>spring</td>\n      <td>[18,21]</td>\n      <td>1</td>\n      <td>1</td>\n      <td>0</td>\n      <td>-1</td>\n      <td>once a week</td>\n      <td>0</td>\n      <td>[0,2]</td>\n      <td>O</td>\n    </tr>\n  </tbody>\n</table>\n</div>"
     },
     "metadata": {},
     "execution_count": 7
    }
   ],
   "source": [
    "original.loc[(original['ALCOHOL'] == 'once a week')  & (original['SEASON'] == 'spring') & (original['FEVERS'] == -1) & (original['TRAUMA'] == 1)]"
   ]
  },
  {
   "cell_type": "code",
   "execution_count": 6,
   "metadata": {},
   "outputs": [
    {
     "output_type": "execute_result",
     "data": {
      "text/plain": [
       "   SEASON  DISEASE  TRAUMA  SURGERY  FEVERS               ALCOHOL  SMOKING  \\\n",
       "0  spring        0       1        1       0           once a week        0   \n",
       "1  spring        1       0        1       0           once a week        1   \n",
       "2  spring        1       0        0       0  hardly ever or never       -1   \n",
       "3  spring        0       1        1       0  hardly ever or never       -1   \n",
       "4  spring        1       1        0       0           once a week       -1   \n",
       "\n",
       "  OUTPUT  \n",
       "0      N  \n",
       "1      O  \n",
       "2      N  \n",
       "3      N  \n",
       "4      O  "
      ],
      "text/html": "<div>\n<style scoped>\n    .dataframe tbody tr th:only-of-type {\n        vertical-align: middle;\n    }\n\n    .dataframe tbody tr th {\n        vertical-align: top;\n    }\n\n    .dataframe thead th {\n        text-align: right;\n    }\n</style>\n<table border=\"1\" class=\"dataframe\">\n  <thead>\n    <tr style=\"text-align: right;\">\n      <th></th>\n      <th>SEASON</th>\n      <th>DISEASE</th>\n      <th>TRAUMA</th>\n      <th>SURGERY</th>\n      <th>FEVERS</th>\n      <th>ALCOHOL</th>\n      <th>SMOKING</th>\n      <th>OUTPUT</th>\n    </tr>\n  </thead>\n  <tbody>\n    <tr>\n      <th>0</th>\n      <td>spring</td>\n      <td>0</td>\n      <td>1</td>\n      <td>1</td>\n      <td>0</td>\n      <td>once a week</td>\n      <td>0</td>\n      <td>N</td>\n    </tr>\n    <tr>\n      <th>1</th>\n      <td>spring</td>\n      <td>1</td>\n      <td>0</td>\n      <td>1</td>\n      <td>0</td>\n      <td>once a week</td>\n      <td>1</td>\n      <td>O</td>\n    </tr>\n    <tr>\n      <th>2</th>\n      <td>spring</td>\n      <td>1</td>\n      <td>0</td>\n      <td>0</td>\n      <td>0</td>\n      <td>hardly ever or never</td>\n      <td>-1</td>\n      <td>N</td>\n    </tr>\n    <tr>\n      <th>3</th>\n      <td>spring</td>\n      <td>0</td>\n      <td>1</td>\n      <td>1</td>\n      <td>0</td>\n      <td>hardly ever or never</td>\n      <td>-1</td>\n      <td>N</td>\n    </tr>\n    <tr>\n      <th>4</th>\n      <td>spring</td>\n      <td>1</td>\n      <td>1</td>\n      <td>0</td>\n      <td>0</td>\n      <td>once a week</td>\n      <td>-1</td>\n      <td>O</td>\n    </tr>\n  </tbody>\n</table>\n</div>"
     },
     "metadata": {},
     "execution_count": 6
    }
   ],
   "source": [
    "class_name = original.columns[-1]\n",
    "original=original[[i for i in original if len(set(original[i]))>1 or i == class_name]]\n",
    "original.head()"
   ]
  },
  {
   "cell_type": "code",
   "execution_count": null,
   "metadata": {},
   "outputs": [],
   "source": []
  }
 ]
}